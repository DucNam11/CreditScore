{
 "cells": [
  {
   "cell_type": "markdown",
   "metadata": {},
   "source": [
    "# **Implementation of a scoring model**\n",
    "## **Notebook 6/6 - Assembling TEST data for the dashboard**"
   ]
  },
  {
   "cell_type": "markdown",
   "metadata": {},
   "source": [
    "This notebook is organized as follows:\n",
    "\n",
    "**0. Set up**\n",
    "- 0.1 Loading libraries and useful functions\n",
    "- 0.2 Loading the dataset\n",
    "- 0.3 Separation of the dataset\n",
    "- 0.3 Model loading\n",
    "    \n",
    "**1. Model exploitation: Predictions on new data**\n",
    "- 1.1 Transformation of data for consumption by the model\n",
    "- 1.2 Predictions by model\n",
    "- 1.3 Export of predictions"
   ]
  },
  {
   "cell_type": "markdown",
   "metadata": {},
   "source": [
    "___\n",
    "### 0. SETUP\n",
    "\n",
    "In this first step, the working framework is put in place, that is to say:\n",
    "- The necessary Python libraries and packages are loaded\n",
    "- Useful functions are defined\n",
    "- The dataset is loaded\n",
    "___"
   ]
  },
  {
   "cell_type": "markdown",
   "metadata": {},
   "source": [
    "___\n",
    "#### 0.1 LOADING LIBRARIES AND USEFUL FUNCTIONS"
   ]
  },
  {
   "cell_type": "code",
   "execution_count": 1,
   "metadata": {},
   "outputs": [],
   "source": [
    "%load_ext autoreload\n",
    "%autoreload 2"
   ]
  },
  {
   "cell_type": "code",
   "execution_count": 2,
   "metadata": {},
   "outputs": [],
   "source": [
    "import numpy as np\n",
    "import pandas as pd\n",
    "from joblib import load"
   ]
  },
  {
   "cell_type": "code",
   "execution_count": 3,
   "metadata": {},
   "outputs": [],
   "source": [
    "from sys import path\n",
    "path.append(\"./Resources/functions\")\n",
    "\n",
    "import helper_functions as hf"
   ]
  },
  {
   "cell_type": "markdown",
   "metadata": {},
   "source": [
    "____\n",
    "#### 0.2 LOADING THE DATASET\n",
    "\n",
    "In order to demonstrate the entire model exploitation chain, this part will use the TEST application_test.csv dataset.\n",
    "\n",
    "Since these data were not used in any of the different stages of developing the model, they make it possible to show the use of the model with new data."
   ]
  },
  {
   "cell_type": "code",
   "execution_count": 4,
   "metadata": {
    "scrolled": true
   },
   "outputs": [],
   "source": [
    "app_test = pd.read_csv(\"./Resources/datasets/origin/application_test.csv\")\n",
    "\n",
    "bureau_balance = pd.read_csv(\"./Resources/datasets/origin/bureau_balance.csv\")\n",
    "\n",
    "bureau = pd.read_csv(\"./Resources/datasets/origin/bureau.csv\")\n",
    "\n",
    "card = pd.read_csv(\"./Resources/datasets/origin/credit_card_balance.csv\")\n",
    "\n",
    "installments = pd.read_csv(\"./Resources/datasets/origin/installments_payments.csv\")\n",
    "\n",
    "cash = pd.read_csv(\"./Resources/datasets/origin/POS_CASH_balance.csv\")\n",
    "\n",
    "prev_app = pd.read_csv(\"./Resources/datasets/origin/previous_application.csv\")"
   ]
  },
  {
   "cell_type": "markdown",
   "metadata": {},
   "source": [
    "___\n",
    "\n",
    "#### 0.3 DATASET SEPARATION\n",
    "\n",
    "The dataset is split into two:\n",
    "- data for which the credit score has already been calculated, which will be used when the dashboard is started, to be browsed (_browse).\n",
    "- data for which the credit score will be calculated live by the dashboard (_new)."
   ]
  },
  {
   "cell_type": "code",
   "execution_count": 5,
   "metadata": {},
   "outputs": [],
   "source": [
    "app_test_browse = app_test[:int(len(app_test)/2)]\n",
    "\n",
    "bureau_browse = bureau[bureau[\"SK_ID_CURR\"].isin(app_test_browse[\"SK_ID_CURR\"])]\n",
    "bureau_balance_browse = bureau_balance[bureau_balance[\"SK_ID_BUREAU\"].isin(bureau_browse[\"SK_ID_BUREAU\"])]\n",
    "card_browse = card[card[\"SK_ID_CURR\"].isin(app_test_browse[\"SK_ID_CURR\"])]\n",
    "installments_browse = installments[installments[\"SK_ID_CURR\"].isin(app_test_browse[\"SK_ID_CURR\"])]\n",
    "cash_browse = cash[cash[\"SK_ID_CURR\"].isin(app_test_browse[\"SK_ID_CURR\"])]\n",
    "prev_app_browse = prev_app[prev_app[\"SK_ID_CURR\"].isin(app_test_browse[\"SK_ID_CURR\"])]"
   ]
  },
  {
   "cell_type": "code",
   "execution_count": 6,
   "metadata": {},
   "outputs": [],
   "source": [
    "app_test_new = app_test[int(len(app_test)/2):]\n",
    "\n",
    "bureau_new = bureau[bureau[\"SK_ID_CURR\"].isin(app_test_new[\"SK_ID_CURR\"])]\n",
    "bureau_balance_new = bureau_balance[bureau_balance[\"SK_ID_BUREAU\"].isin(bureau_new[\"SK_ID_BUREAU\"])]\n",
    "card_new = card[card[\"SK_ID_CURR\"].isin(app_test_new[\"SK_ID_CURR\"])]\n",
    "installments_new = installments[installments[\"SK_ID_CURR\"].isin(app_test_new[\"SK_ID_CURR\"])]\n",
    "cash_new = cash[cash[\"SK_ID_CURR\"].isin(app_test_new[\"SK_ID_CURR\"])]\n",
    "prev_app_new = prev_app[prev_app[\"SK_ID_CURR\"].isin(app_test_new[\"SK_ID_CURR\"])]"
   ]
  },
  {
   "cell_type": "markdown",
   "metadata": {},
   "source": [
    "___\n",
    "#### 0.4 LOADING THE MODEL"
   ]
  },
  {
   "cell_type": "code",
   "execution_count": 7,
   "metadata": {},
   "outputs": [],
   "source": [
    "model = load('../lgbm_trained_model_whole_dataset.joblib')"
   ]
  },
  {
   "cell_type": "markdown",
   "metadata": {},
   "source": [
    "___\n",
    "### 1. EXPLOITATION OF THE MODEL: PREDICTIONS ON NEW DATA"
   ]
  },
  {
   "cell_type": "markdown",
   "metadata": {},
   "source": [
    "___\n",
    "#### 1.1 TRANSFORMATION OF DATA FOR CONSUMPTION BY THE MODEL"
   ]
  },
  {
   "cell_type": "code",
   "execution_count": 8,
   "metadata": {},
   "outputs": [
    {
     "name": "stdout",
     "output_type": "stream",
     "text": [
      "Original Memory Usage: 0.02 gb.\n",
      "New Memory Usage: 0.01 gb.\n",
      "Original Memory Usage: 0.15 gb.\n",
      "New Memory Usage: 0.08 gb.\n",
      "There are 0 columns with greater than 90% missing values.\n",
      "Original Memory Usage: 0.04 gb.\n",
      "New Memory Usage: 0.01 gb.\n",
      "There are 6 columns with greater than 90% missing values.\n",
      "Original Memory Usage: 0.05 gb.\n",
      "New Memory Usage: 0.03 gb.\n",
      "There are 0 columns with greater than 90% missing values.\n",
      "Original Memory Usage: 0.06 gb.\n",
      "New Memory Usage: 0.03 gb.\n",
      "There are 0 columns with greater than 90% missing values.\n",
      "Original Memory Usage: 0.07 gb.\n",
      "New Memory Usage: 0.04 gb.\n",
      "There are 0 columns with greater than 90% missing values.\n"
     ]
    },
    {
     "data": {
      "text/plain": [
       "(24372, 141)"
      ]
     },
     "execution_count": 8,
     "metadata": {},
     "output_type": "execute_result"
    }
   ],
   "source": [
    "model_ready_df = hf.transform_data(app_test_browse, \n",
    "                                   bureau_browse,                                   \n",
    "                                   bureau_balance_browse,\n",
    "                                   card_browse, \n",
    "                                   cash_browse, \n",
    "                                   installments_browse,\n",
    "                                   prev_app_browse)\n",
    "\n",
    "model_ready_df.shape"
   ]
  },
  {
   "cell_type": "markdown",
   "metadata": {},
   "source": [
    "___\n",
    "#### 1.2 PREDICTIONS BY THE MODEL"
   ]
  },
  {
   "cell_type": "code",
   "execution_count": 9,
   "metadata": {},
   "outputs": [],
   "source": [
    "# Predictions on the test data\n",
    "credit_score_predictions = model.predict_proba(model_ready_df)[:, 1]"
   ]
  },
  {
   "cell_type": "code",
   "execution_count": 10,
   "metadata": {},
   "outputs": [],
   "source": [
    "predictions_df = pd.DataFrame(data=credit_score_predictions*100)\\\n",
    "                   .rename(columns={0:\"Credit Score\"})"
   ]
  },
  {
   "cell_type": "code",
   "execution_count": 11,
   "metadata": {},
   "outputs": [],
   "source": [
    "predictions_df = pd.concat([app_test_browse[\"SK_ID_CURR\"], predictions_df], axis=1)"
   ]
  },
  {
   "cell_type": "markdown",
   "metadata": {},
   "source": [
    "___\n",
    "#### 1.3 EXPORT OF DATA AND PREDICTIONS"
   ]
  },
  {
   "cell_type": "code",
   "execution_count": 12,
   "metadata": {},
   "outputs": [],
   "source": [
    "# Exporting predictions\n",
    "predictions_df.to_csv(\"./Resources/datasets/assembled/dashboard/browse/predictions_test.csv\")"
   ]
  },
  {
   "cell_type": "code",
   "execution_count": 13,
   "metadata": {},
   "outputs": [],
   "source": [
    "# Removing anomaly from already processed data\n",
    "app_test_browse['DAYS_EMPLOYED'].replace({365243: np.nan}, inplace = True)\n",
    "\n",
    "# Exporting browse data\n",
    "app_test_browse.to_csv(\"./Resources/datasets/assembled/dashboard/browse/application_test.csv\")\n",
    "bureau_browse.to_csv(\"./Resources/datasets/assembled/dashboard/browse/bureau.csv\")\n",
    "bureau_balance_browse.to_csv(\"./Resources/datasets/assembled/dashboard/browse/bureau_balance.csv\")\n",
    "card_browse.to_csv(\"./Resources/datasets/assembled/dashboard/browse/card.csv\")\n",
    "installments_browse.to_csv(\"./Resources/datasets/assembled/dashboard/browse/installments.csv\")\n",
    "cash_browse.to_csv(\"./Resources/datasets/assembled/dashboard/browse/cash.csv\")\n",
    "prev_app_browse.to_csv(\"./Resources/datasets/assembled/dashboard/browse/prev_app.csv\")"
   ]
  },
  {
   "cell_type": "code",
   "execution_count": 14,
   "metadata": {},
   "outputs": [],
   "source": [
    "# Exporting new data\n",
    "app_test_new.to_csv(\"./Resources/datasets/assembled/dashboard/new/application_test.csv\")\n",
    "bureau_new.to_csv(\"./Resources/datasets/assembled/dashboard/new/bureau.csv\")\n",
    "bureau_balance_new.to_csv(\"./Resources/datasets/assembled/dashboard/new/bureau_balance.csv\")\n",
    "card_new.to_csv(\"./Resources/datasets/assembled/dashboard/new/card.csv\")\n",
    "installments_new.to_csv(\"./Resources/datasets/assembled/dashboard/new/installments.csv\")\n",
    "cash_new.to_csv(\"./Resources/datasets/assembled/dashboard/new/cash.csv\")\n",
    "prev_app_new.to_csv(\"./Resources/datasets/assembled/dashboard/new/prev_app.csv\")"
   ]
  }
 ],
 "metadata": {
  "kernelspec": {
   "display_name": "Python 3",
   "language": "python",
   "name": "python3"
  },
  "language_info": {
   "codemirror_mode": {
    "name": "ipython",
    "version": 3
   },
   "file_extension": ".py",
   "mimetype": "text/x-python",
   "name": "python",
   "nbconvert_exporter": "python",
   "pygments_lexer": "ipython3",
   "version": "3.7.6-final"
  }
 },
 "nbformat": 4,
 "nbformat_minor": 4
}
